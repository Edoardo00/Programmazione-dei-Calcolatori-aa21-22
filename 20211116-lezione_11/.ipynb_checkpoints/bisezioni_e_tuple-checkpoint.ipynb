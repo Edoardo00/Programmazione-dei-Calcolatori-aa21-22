{
 "cells": [
  {
   "cell_type": "markdown",
   "metadata": {},
   "source": [
    "# Soluzioni esercizi"
   ]
  },
  {
   "cell_type": "markdown",
   "metadata": {},
   "source": [
    "Funzione per il calcolo di $log_b(x)$ con il metodo di bisezione."
   ]
  },
  {
   "cell_type": "code",
   "execution_count": 1,
   "metadata": {},
   "outputs": [],
   "source": [
    "def log(x, b = 10, err = 0.0001):\n",
    "    i = 0\n",
    "    while b**i < x:\n",
    "        i += 1\n",
    "\n",
    "    y_inf, y_sup = i-1, i\n",
    "\n",
    "    trovato = False\n",
    "\n",
    "    while not trovato:\n",
    "        y = (y_inf + y_sup)/2\n",
    "        if b**y < x - err:\n",
    "            y_inf = y\n",
    "        elif b**y > x + err:\n",
    "            y_sup = y\n",
    "        else:\n",
    "            trovato = True\n",
    "            \n",
    "    return y"
   ]
  },
  {
   "cell_type": "code",
   "execution_count": 2,
   "metadata": {},
   "outputs": [
    {
     "data": {
      "text/plain": [
       "1.999999761581421"
      ]
     },
     "execution_count": 2,
     "metadata": {},
     "output_type": "execute_result"
    }
   ],
   "source": [
    "log(100)"
   ]
  },
  {
   "cell_type": "markdown",
   "metadata": {},
   "source": [
    "Funzione per il calcolo della radice quadrata basata sul metodo di bisezione"
   ]
  },
  {
   "cell_type": "code",
   "execution_count": 3,
   "metadata": {},
   "outputs": [],
   "source": [
    "def radice_per_bisezione(x, err = 0.0000001 ):\n",
    "    y_inf, y_sup = 0, max(1, x)\n",
    "\n",
    "    trovato = False\n",
    "\n",
    "    c = 0\n",
    "    while not trovato:\n",
    "        y = (y_inf + y_sup)/2\n",
    "        if y*y < x - err:\n",
    "            y_inf = y\n",
    "        elif y*y > x + err:\n",
    "            y_sup = y\n",
    "        else:\n",
    "            trovato = True\n",
    "        c += 1\n",
    "            \n",
    "    return y, c"
   ]
  },
  {
   "cell_type": "code",
   "execution_count": 4,
   "metadata": {},
   "outputs": [
    {
     "data": {
      "text/plain": [
       "(1.4142135381698608, 24)"
      ]
     },
     "execution_count": 4,
     "metadata": {},
     "output_type": "execute_result"
    }
   ],
   "source": [
    "radice_per_bisezione(2)"
   ]
  },
  {
   "cell_type": "markdown",
   "metadata": {},
   "source": [
    "La radice quadrata calcolata per mezzo dell'algoritmo *babilonese*"
   ]
  },
  {
   "cell_type": "code",
   "execution_count": 5,
   "metadata": {},
   "outputs": [],
   "source": [
    "def radice( a, err = 0.0000001 ):\n",
    "    g = a/2\n",
    "    c = 0\n",
    "    while abs( g*g - a ) > err: \n",
    "        g = 0.5 * ( g + a/g )\n",
    "        c += 1\n",
    "    return g, c"
   ]
  },
  {
   "cell_type": "code",
   "execution_count": 6,
   "metadata": {},
   "outputs": [
    {
     "data": {
      "text/plain": [
       "(0.7071067812624661, 5)"
      ]
     },
     "execution_count": 6,
     "metadata": {},
     "output_type": "execute_result"
    }
   ],
   "source": [
    "radice(0.5)"
   ]
  },
  {
   "cell_type": "code",
   "execution_count": 7,
   "metadata": {},
   "outputs": [
    {
     "data": {
      "text/plain": [
       "(0.7071068286895752, 22)"
      ]
     },
     "execution_count": 7,
     "metadata": {},
     "output_type": "execute_result"
    }
   ],
   "source": [
    "radice_per_bisezione(0.5)"
   ]
  },
  {
   "cell_type": "markdown",
   "metadata": {},
   "source": [
    "Confronto della velocità di convergenza delle due funzioni"
   ]
  },
  {
   "cell_type": "code",
   "execution_count": 8,
   "metadata": {},
   "outputs": [
    {
     "name": "stdout",
     "output_type": "stream",
     "text": [
      "0\n",
      "\t (0.0, 0)\n",
      "\t (0.000244140625, 12)\n",
      "1\n",
      "\t (1.0000000464611474, 4)\n",
      "\t (0.9999999701976776, 25)\n",
      "2\n",
      "\t (1.4142135623746899, 4)\n",
      "\t (1.4142135381698608, 24)\n",
      "3\n",
      "\t (1.7320508100147274, 3)\n",
      "\t (1.732050821185112, 26)\n",
      "4\n",
      "\t (2.0, 0)\n",
      "\t (2.0, 1)\n",
      "5\n",
      "\t (2.2360679779158037, 3)\n",
      "\t (2.2360679879784584, 27)\n",
      "6\n",
      "\t (2.4494897427831788, 4)\n",
      "\t (2.4494897425174713, 26)\n",
      "7\n",
      "\t (2.6457513110646933, 4)\n",
      "\t (2.6457513198256493, 27)\n",
      "8\n",
      "\t (2.8284271247493797, 4)\n",
      "\t (2.8284271359443665, 27)\n",
      "9\n",
      "\t (3.0000000000393214, 4)\n",
      "\t (2.999999988824129, 28)\n",
      "10\n",
      "\t (3.1622776604441363, 4)\n",
      "\t (3.1622776575386524, 29)\n",
      "11\n",
      "\t (3.316624791682619, 4)\n",
      "\t (3.316624779254198, 28)\n",
      "12\n",
      "\t (3.4641016200294548, 4)\n",
      "\t (3.464101620018482, 29)\n",
      "13\n",
      "\t (3.6055512754639896, 5)\n",
      "\t (3.6055512726306915, 25)\n",
      "14\n",
      "\t (3.7416573867739418, 5)\n",
      "\t (3.741657394915819, 29)\n"
     ]
    }
   ],
   "source": [
    "for x in range(15):\n",
    "    print(x)\n",
    "    print('\\t', radice(x))\n",
    "    print('\\t', radice_per_bisezione(x))"
   ]
  },
  {
   "cell_type": "markdown",
   "metadata": {},
   "source": [
    "# Le tuple"
   ]
  },
  {
   "cell_type": "code",
   "execution_count": 9,
   "metadata": {},
   "outputs": [],
   "source": [
    "t = radice(0.0001)"
   ]
  },
  {
   "cell_type": "code",
   "execution_count": 10,
   "metadata": {},
   "outputs": [
    {
     "name": "stdout",
     "output_type": "stream",
     "text": [
      "(0.0100007142215493, 10)\n"
     ]
    }
   ],
   "source": [
    "print(t)"
   ]
  },
  {
   "cell_type": "code",
   "execution_count": 11,
   "metadata": {},
   "outputs": [
    {
     "data": {
      "text/plain": [
       "tuple"
      ]
     },
     "execution_count": 11,
     "metadata": {},
     "output_type": "execute_result"
    }
   ],
   "source": [
    "type(t)"
   ]
  },
  {
   "cell_type": "code",
   "execution_count": 12,
   "metadata": {},
   "outputs": [],
   "source": [
    "t = (0, 21.5, 'python', radice(2))"
   ]
  },
  {
   "cell_type": "code",
   "execution_count": 13,
   "metadata": {},
   "outputs": [
    {
     "name": "stdout",
     "output_type": "stream",
     "text": [
      "(0, 21.5, 'python', (1.4142135623746899, 4))\n"
     ]
    }
   ],
   "source": [
    "print(t)"
   ]
  },
  {
   "cell_type": "markdown",
   "metadata": {},
   "source": [
    "Indicizzazione, slicing, lunghezza, immutabilità, concatenazione e ripetizione... come per le stringhe."
   ]
  },
  {
   "cell_type": "code",
   "execution_count": 14,
   "metadata": {},
   "outputs": [
    {
     "data": {
      "text/plain": [
       "(21.5, 'python')"
      ]
     },
     "execution_count": 14,
     "metadata": {},
     "output_type": "execute_result"
    }
   ],
   "source": [
    "t[1:3]"
   ]
  },
  {
   "cell_type": "code",
   "execution_count": 15,
   "metadata": {},
   "outputs": [
    {
     "data": {
      "text/plain": [
       "((1.4142135623746899, 4), 'python', 21.5, 0)"
      ]
     },
     "execution_count": 15,
     "metadata": {},
     "output_type": "execute_result"
    }
   ],
   "source": [
    "t[::-1]"
   ]
  },
  {
   "cell_type": "code",
   "execution_count": 16,
   "metadata": {},
   "outputs": [
    {
     "data": {
      "text/plain": [
       "4"
      ]
     },
     "execution_count": 16,
     "metadata": {},
     "output_type": "execute_result"
    }
   ],
   "source": [
    "len(t)"
   ]
  },
  {
   "cell_type": "code",
   "execution_count": 17,
   "metadata": {},
   "outputs": [
    {
     "ename": "TypeError",
     "evalue": "'tuple' object does not support item assignment",
     "output_type": "error",
     "traceback": [
      "\u001b[0;31m---------------------------------------------------------------------------\u001b[0m",
      "\u001b[0;31mTypeError\u001b[0m                                 Traceback (most recent call last)",
      "\u001b[0;32m<ipython-input-17-3186625c79e4>\u001b[0m in \u001b[0;36m<module>\u001b[0;34m\u001b[0m\n\u001b[0;32m----> 1\u001b[0;31m \u001b[0mt\u001b[0m\u001b[0;34m[\u001b[0m\u001b[0;36m0\u001b[0m\u001b[0;34m]\u001b[0m \u001b[0;34m=\u001b[0m \u001b[0;36m7\u001b[0m\u001b[0;34m\u001b[0m\u001b[0;34m\u001b[0m\u001b[0m\n\u001b[0m",
      "\u001b[0;31mTypeError\u001b[0m: 'tuple' object does not support item assignment"
     ]
    }
   ],
   "source": [
    "t[0] = 7"
   ]
  },
  {
   "cell_type": "code",
   "execution_count": 18,
   "metadata": {},
   "outputs": [
    {
     "data": {
      "text/plain": [
       "(0, 21.5, 'python', (1.4142135623746899, 4))"
      ]
     },
     "execution_count": 18,
     "metadata": {},
     "output_type": "execute_result"
    }
   ],
   "source": [
    "t"
   ]
  },
  {
   "cell_type": "code",
   "execution_count": 19,
   "metadata": {},
   "outputs": [],
   "source": [
    "t0 = t[:1] + (3.14,) + t[2:]"
   ]
  },
  {
   "cell_type": "code",
   "execution_count": 20,
   "metadata": {},
   "outputs": [
    {
     "data": {
      "text/plain": [
       "(0, 3.14, 'python', (1.4142135623746899, 4))"
      ]
     },
     "execution_count": 20,
     "metadata": {},
     "output_type": "execute_result"
    }
   ],
   "source": [
    "t0"
   ]
  },
  {
   "cell_type": "code",
   "execution_count": 21,
   "metadata": {},
   "outputs": [
    {
     "data": {
      "text/plain": [
       "(0, 21.5, 'python', (1.4142135623746899, 4))"
      ]
     },
     "execution_count": 21,
     "metadata": {},
     "output_type": "execute_result"
    }
   ],
   "source": [
    "t"
   ]
  },
  {
   "cell_type": "code",
   "execution_count": 22,
   "metadata": {},
   "outputs": [
    {
     "data": {
      "text/plain": [
       "(0,\n",
       " 21.5,\n",
       " 'python',\n",
       " (1.4142135623746899, 4),\n",
       " 0,\n",
       " 21.5,\n",
       " 'python',\n",
       " (1.4142135623746899, 4))"
      ]
     },
     "execution_count": 22,
     "metadata": {},
     "output_type": "execute_result"
    }
   ],
   "source": [
    "t*2"
   ]
  },
  {
   "cell_type": "code",
   "execution_count": 23,
   "metadata": {},
   "outputs": [
    {
     "data": {
      "text/plain": [
       "(0, 21.5, 'python', (1.4142135623746899, 4), 2.71)"
      ]
     },
     "execution_count": 23,
     "metadata": {},
     "output_type": "execute_result"
    }
   ],
   "source": [
    "t + (2.71,)"
   ]
  },
  {
   "cell_type": "code",
   "execution_count": 24,
   "metadata": {},
   "outputs": [
    {
     "name": "stdout",
     "output_type": "stream",
     "text": [
      "0\n",
      "21.5\n",
      "python\n",
      "(1.4142135623746899, 4)\n"
     ]
    }
   ],
   "source": [
    "for x in t:\n",
    "    print(x)"
   ]
  },
  {
   "cell_type": "markdown",
   "metadata": {},
   "source": [
    "### Funzioni con numero variabile di argomenti"
   ]
  },
  {
   "cell_type": "code",
   "execution_count": 25,
   "metadata": {},
   "outputs": [
    {
     "data": {
      "text/plain": [
       "30"
      ]
     },
     "execution_count": 25,
     "metadata": {},
     "output_type": "execute_result"
    }
   ],
   "source": [
    "max(1,2,30,4, 10)"
   ]
  },
  {
   "cell_type": "code",
   "execution_count": 26,
   "metadata": {},
   "outputs": [],
   "source": [
    "def verifica( *argomenti ):\n",
    "    for x in argomenti:\n",
    "        print(x)"
   ]
  },
  {
   "cell_type": "code",
   "execution_count": 27,
   "metadata": {},
   "outputs": [
    {
     "name": "stdout",
     "output_type": "stream",
     "text": [
      "10\n",
      "ciao\n",
      "3.15\n",
      "1\n"
     ]
    }
   ],
   "source": [
    "verifica(10, 'ciao', 3.15, 1)"
   ]
  },
  {
   "cell_type": "code",
   "execution_count": null,
   "metadata": {},
   "outputs": [],
   "source": []
  }
 ],
 "metadata": {
  "kernelspec": {
   "display_name": "Python 3",
   "language": "python",
   "name": "python3"
  },
  "language_info": {
   "codemirror_mode": {
    "name": "ipython",
    "version": 3
   },
   "file_extension": ".py",
   "mimetype": "text/x-python",
   "name": "python",
   "nbconvert_exporter": "python",
   "pygments_lexer": "ipython3",
   "version": "3.6.9"
  }
 },
 "nbformat": 4,
 "nbformat_minor": 5
}
